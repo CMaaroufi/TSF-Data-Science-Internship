{
  "nbformat": 4,
  "nbformat_minor": 0,
  "metadata": {
    "colab": {
      "name": "Task1.ipynb",
      "provenance": [],
      "authorship_tag": "ABX9TyNUbL70QRXx6TQY+WyGEhit",
      "include_colab_link": true
    },
    "kernelspec": {
      "name": "python3",
      "display_name": "Python 3"
    },
    "language_info": {
      "name": "python"
    }
  },
  "cells": [
    {
      "cell_type": "markdown",
      "metadata": {
        "id": "view-in-github",
        "colab_type": "text"
      },
      "source": [
        "<a href=\"https://colab.research.google.com/github/CMaaroufi/TSF-Data-Science-Internship/blob/main/Task1.ipynb\" target=\"_parent\"><img src=\"https://colab.research.google.com/assets/colab-badge.svg\" alt=\"Open In Colab\"/></a>"
      ]
    },
    {
      "cell_type": "markdown",
      "source": [
        "# **The Sparks Foundation: Data Science and Business Analytics Internship**\n",
        "# **GRIP: May 2022**\n",
        "### **Task 1 : Prediction using Supervised ML**\n"
      ],
      "metadata": {
        "id": "YItdl1To-f73"
      }
    },
    {
      "cell_type": "markdown",
      "source": [
        "### Importing the necessary libraries\n",
        "\n"
      ],
      "metadata": {
        "id": "nSlN6Tm7-kAR"
      }
    },
    {
      "cell_type": "code",
      "source": [
        "import sklearn as sk\n",
        "import pandas as pd\n",
        "import numpy as np\n",
        "import matplotlib.pyplot as plt"
      ],
      "metadata": {
        "id": "2jeKv5yI-nwt"
      },
      "execution_count": 3,
      "outputs": []
    },
    {
      "cell_type": "markdown",
      "source": [
        "### Importing the Data"
      ],
      "metadata": {
        "id": "0nwoAZvk-qNH"
      }
    },
    {
      "cell_type": "code",
      "source": [
        "url='http://bit.ly/w-data'\n",
        "mydata=pd.read_csv(url)\n",
        "\n",
        "print(\"Data imported successfully\")\n",
        "mydata.head()"
      ],
      "metadata": {
        "colab": {
          "base_uri": "https://localhost:8080/",
          "height": 224
        },
        "id": "WfELdlYF-s50",
        "outputId": "d3125c91-20b3-4218-de55-fbc2ef8b286e"
      },
      "execution_count": 4,
      "outputs": [
        {
          "output_type": "stream",
          "name": "stdout",
          "text": [
            "Data imported successfully\n"
          ]
        },
        {
          "output_type": "execute_result",
          "data": {
            "text/plain": [
              "   Hours  Scores\n",
              "0    2.5      21\n",
              "1    5.1      47\n",
              "2    3.2      27\n",
              "3    8.5      75\n",
              "4    3.5      30"
            ],
            "text/html": [
              "\n",
              "  <div id=\"df-5728c794-1681-4c64-8ee1-8b44d8d9c59a\">\n",
              "    <div class=\"colab-df-container\">\n",
              "      <div>\n",
              "<style scoped>\n",
              "    .dataframe tbody tr th:only-of-type {\n",
              "        vertical-align: middle;\n",
              "    }\n",
              "\n",
              "    .dataframe tbody tr th {\n",
              "        vertical-align: top;\n",
              "    }\n",
              "\n",
              "    .dataframe thead th {\n",
              "        text-align: right;\n",
              "    }\n",
              "</style>\n",
              "<table border=\"1\" class=\"dataframe\">\n",
              "  <thead>\n",
              "    <tr style=\"text-align: right;\">\n",
              "      <th></th>\n",
              "      <th>Hours</th>\n",
              "      <th>Scores</th>\n",
              "    </tr>\n",
              "  </thead>\n",
              "  <tbody>\n",
              "    <tr>\n",
              "      <th>0</th>\n",
              "      <td>2.5</td>\n",
              "      <td>21</td>\n",
              "    </tr>\n",
              "    <tr>\n",
              "      <th>1</th>\n",
              "      <td>5.1</td>\n",
              "      <td>47</td>\n",
              "    </tr>\n",
              "    <tr>\n",
              "      <th>2</th>\n",
              "      <td>3.2</td>\n",
              "      <td>27</td>\n",
              "    </tr>\n",
              "    <tr>\n",
              "      <th>3</th>\n",
              "      <td>8.5</td>\n",
              "      <td>75</td>\n",
              "    </tr>\n",
              "    <tr>\n",
              "      <th>4</th>\n",
              "      <td>3.5</td>\n",
              "      <td>30</td>\n",
              "    </tr>\n",
              "  </tbody>\n",
              "</table>\n",
              "</div>\n",
              "      <button class=\"colab-df-convert\" onclick=\"convertToInteractive('df-5728c794-1681-4c64-8ee1-8b44d8d9c59a')\"\n",
              "              title=\"Convert this dataframe to an interactive table.\"\n",
              "              style=\"display:none;\">\n",
              "        \n",
              "  <svg xmlns=\"http://www.w3.org/2000/svg\" height=\"24px\"viewBox=\"0 0 24 24\"\n",
              "       width=\"24px\">\n",
              "    <path d=\"M0 0h24v24H0V0z\" fill=\"none\"/>\n",
              "    <path d=\"M18.56 5.44l.94 2.06.94-2.06 2.06-.94-2.06-.94-.94-2.06-.94 2.06-2.06.94zm-11 1L8.5 8.5l.94-2.06 2.06-.94-2.06-.94L8.5 2.5l-.94 2.06-2.06.94zm10 10l.94 2.06.94-2.06 2.06-.94-2.06-.94-.94-2.06-.94 2.06-2.06.94z\"/><path d=\"M17.41 7.96l-1.37-1.37c-.4-.4-.92-.59-1.43-.59-.52 0-1.04.2-1.43.59L10.3 9.45l-7.72 7.72c-.78.78-.78 2.05 0 2.83L4 21.41c.39.39.9.59 1.41.59.51 0 1.02-.2 1.41-.59l7.78-7.78 2.81-2.81c.8-.78.8-2.07 0-2.86zM5.41 20L4 18.59l7.72-7.72 1.47 1.35L5.41 20z\"/>\n",
              "  </svg>\n",
              "      </button>\n",
              "      \n",
              "  <style>\n",
              "    .colab-df-container {\n",
              "      display:flex;\n",
              "      flex-wrap:wrap;\n",
              "      gap: 12px;\n",
              "    }\n",
              "\n",
              "    .colab-df-convert {\n",
              "      background-color: #E8F0FE;\n",
              "      border: none;\n",
              "      border-radius: 50%;\n",
              "      cursor: pointer;\n",
              "      display: none;\n",
              "      fill: #1967D2;\n",
              "      height: 32px;\n",
              "      padding: 0 0 0 0;\n",
              "      width: 32px;\n",
              "    }\n",
              "\n",
              "    .colab-df-convert:hover {\n",
              "      background-color: #E2EBFA;\n",
              "      box-shadow: 0px 1px 2px rgba(60, 64, 67, 0.3), 0px 1px 3px 1px rgba(60, 64, 67, 0.15);\n",
              "      fill: #174EA6;\n",
              "    }\n",
              "\n",
              "    [theme=dark] .colab-df-convert {\n",
              "      background-color: #3B4455;\n",
              "      fill: #D2E3FC;\n",
              "    }\n",
              "\n",
              "    [theme=dark] .colab-df-convert:hover {\n",
              "      background-color: #434B5C;\n",
              "      box-shadow: 0px 1px 3px 1px rgba(0, 0, 0, 0.15);\n",
              "      filter: drop-shadow(0px 1px 2px rgba(0, 0, 0, 0.3));\n",
              "      fill: #FFFFFF;\n",
              "    }\n",
              "  </style>\n",
              "\n",
              "      <script>\n",
              "        const buttonEl =\n",
              "          document.querySelector('#df-5728c794-1681-4c64-8ee1-8b44d8d9c59a button.colab-df-convert');\n",
              "        buttonEl.style.display =\n",
              "          google.colab.kernel.accessAllowed ? 'block' : 'none';\n",
              "\n",
              "        async function convertToInteractive(key) {\n",
              "          const element = document.querySelector('#df-5728c794-1681-4c64-8ee1-8b44d8d9c59a');\n",
              "          const dataTable =\n",
              "            await google.colab.kernel.invokeFunction('convertToInteractive',\n",
              "                                                     [key], {});\n",
              "          if (!dataTable) return;\n",
              "\n",
              "          const docLinkHtml = 'Like what you see? Visit the ' +\n",
              "            '<a target=\"_blank\" href=https://colab.research.google.com/notebooks/data_table.ipynb>data table notebook</a>'\n",
              "            + ' to learn more about interactive tables.';\n",
              "          element.innerHTML = '';\n",
              "          dataTable['output_type'] = 'display_data';\n",
              "          await google.colab.output.renderOutput(dataTable, element);\n",
              "          const docLink = document.createElement('div');\n",
              "          docLink.innerHTML = docLinkHtml;\n",
              "          element.appendChild(docLink);\n",
              "        }\n",
              "      </script>\n",
              "    </div>\n",
              "  </div>\n",
              "  "
            ]
          },
          "metadata": {},
          "execution_count": 4
        }
      ]
    },
    {
      "cell_type": "markdown",
      "source": [
        "### Choose Target and features]"
      ],
      "metadata": {
        "id": "ot-tIvNy-1Bq"
      }
    },
    {
      "cell_type": "markdown",
      "source": [
        "We start with deviding the data into target(output) as y and features(input) as X."
      ],
      "metadata": {
        "id": "7JPr2orz-9Ar"
      }
    },
    {
      "cell_type": "code",
      "source": [
        "X = mydata.iloc[:,[0]].values\n",
        "y = mydata.iloc[:,[1]].values\n"
      ],
      "metadata": {
        "id": "LmUFnfCA-5n5"
      },
      "execution_count": 5,
      "outputs": []
    },
    {
      "cell_type": "markdown",
      "source": [
        "### Splitting The Data "
      ],
      "metadata": {
        "id": "9iTbGTcQ_BG4"
      }
    },
    {
      "cell_type": "markdown",
      "source": [
        "We're going to use Scikit-Learn's built-in train_test_split() method to split the data to training data and testing data."
      ],
      "metadata": {
        "id": "O5ufpcxm_G_-"
      }
    },
    {
      "cell_type": "code",
      "source": [
        "from sklearn.model_selection import train_test_split\n",
        "X_train ,X_test, y_train, y_test = train_test_split(X,y,random_state=0)"
      ],
      "metadata": {
        "id": "I5HGvwEC_KPo"
      },
      "execution_count": 6,
      "outputs": []
    },
    {
      "cell_type": "markdown",
      "source": [
        "### Visualizing The Data "
      ],
      "metadata": {
        "id": "3TvBcr6J_MtE"
      }
    },
    {
      "cell_type": "markdown",
      "source": [
        "Let's plot the data points on a 2-D graph to visualize the data. "
      ],
      "metadata": {
        "id": "EfbRpAEY_QvY"
      }
    },
    {
      "cell_type": "code",
      "source": [
        "fig=plt.figure()\n",
        "ax=fig.add_subplot(111)\n",
        "ax.set(title='Percentage score based on no. of study hours ' , \n",
        "       ylabel='Percentage Score' , xlabel= 'Hours studied')\n",
        "ax.scatter(X,y,color='blue',marker='^')\n",
        "plt.show()"
      ],
      "metadata": {
        "colab": {
          "base_uri": "https://localhost:8080/",
          "height": 295
        },
        "id": "Wsu1cdkA_TTk",
        "outputId": "6822f563-6f76-4994-98c6-5efc0ab198fe"
      },
      "execution_count": 7,
      "outputs": [
        {
          "output_type": "display_data",
          "data": {
            "text/plain": [
              "<Figure size 432x288 with 1 Axes>"
            ],
            "image/png": "[encoded data removed]"
          },
          "metadata": {
            "needs_background": "light"
          }
        }
      ]
    },
    {
      "cell_type": "markdown",
      "source": [
        "From the graphe above, it's clear that there is a positive linear relation between the number of hours studied and the students' percentage score."
      ],
      "metadata": {
        "id": "nrqMkG0t_aiw"
      }
    },
    {
      "cell_type": "markdown",
      "source": [
        "### Model Training"
      ],
      "metadata": {
        "id": "TZnTrsT-_dx2"
      }
    },
    {
      "cell_type": "markdown",
      "source": [
        "We're going to train the model with the training data and then plot the regression line."
      ],
      "metadata": {
        "id": "Fg3lGh4P_hmb"
      }
    },
    {
      "cell_type": "code",
      "source": [
        "from sklearn.linear_model import LinearRegression\n",
        "lr=LinearRegression(normalize=True)\n",
        "lr.fit(X_train, y_train)"
      ],
      "metadata": {
        "id": "ZkMyV-wm_k5I"
      },
      "execution_count": null,
      "outputs": []
    },
    {
      "cell_type": "code",
      "source": [
        "fig=plt.figure()\n",
        "ax=fig.add_subplot(111)\n",
        "ax.set(title='Percentage score based on no. of study hours ' , \n",
        "       ylabel='Percentage Score' , xlabel= 'Hours studied')\n",
        "ax.scatter(X,y,color='blue',marker='^')\n",
        "\n",
        "# Plotting the regression line\n",
        "\n",
        "line = lr.coef_*X+lr.intercept_\n",
        "plt.plot(X, line);\n",
        "\n",
        "plt.show()"
      ],
      "metadata": {
        "colab": {
          "base_uri": "https://localhost:8080/",
          "height": 295
        },
        "id": "Xz_LLuhF_nvS",
        "outputId": "5db6d409-e387-4a12-d61b-05ab5348e66e"
      },
      "execution_count": 9,
      "outputs": [
        {
          "output_type": "display_data",
          "data": {
            "text/plain": [
              "<Figure size 432x288 with 1 Axes>"
            ],
            "image/png": "[encoded data removed]"
          },
          "metadata": {
            "needs_background": "light"
          }
        }
      ]
    },
    {
      "cell_type": "markdown",
      "source": [
        "### Predicting"
      ],
      "metadata": {
        "id": "6E_EzrSM_qEB"
      }
    },
    {
      "cell_type": "markdown",
      "source": [
        "Now, let's make some predictions with our trained model using the testing data."
      ],
      "metadata": {
        "id": "370BK-iA_wiq"
      }
    },
    {
      "cell_type": "code",
      "source": [
        "print('Testing Data in hours \\n',X_test) "
      ],
      "metadata": {
        "colab": {
          "base_uri": "https://localhost:8080/"
        },
        "id": "y_ACcuTe_uMs",
        "outputId": "6f88ab7b-040e-4a2f-eb2e-e8ffe0a2d96c"
      },
      "execution_count": 10,
      "outputs": [
        {
          "output_type": "stream",
          "name": "stdout",
          "text": [
            "Testing Data in hours \n",
            " [[1.5]\n",
            " [3.2]\n",
            " [7.4]\n",
            " [2.5]\n",
            " [5.9]\n",
            " [3.8]\n",
            " [1.9]]\n"
          ]
        }
      ]
    },
    {
      "cell_type": "code",
      "source": [
        "y_pred=lr.predict(X_test)\n",
        "print('Predicted percentage score \\n',y_pred)"
      ],
      "metadata": {
        "colab": {
          "base_uri": "https://localhost:8080/"
        },
        "id": "AZD9AFRL_zoE",
        "outputId": "c1a69211-3597-4fdf-e413-e819d239eba1"
      },
      "execution_count": 11,
      "outputs": [
        {
          "output_type": "stream",
          "name": "stdout",
          "text": [
            "Predicted percentage score \n",
            " [[16.84472176]\n",
            " [33.74557494]\n",
            " [75.50062397]\n",
            " [26.7864001 ]\n",
            " [60.58810646]\n",
            " [39.71058194]\n",
            " [20.8213931 ]]\n"
          ]
        }
      ]
    },
    {
      "cell_type": "code",
      "source": [
        "print('Actual percentage score \\n',y_test)"
      ],
      "metadata": {
        "colab": {
          "base_uri": "https://localhost:8080/"
        },
        "id": "yHGHVwYR_2cN",
        "outputId": "fc478487-5e41-4496-f53f-95ceb8f31586"
      },
      "execution_count": 12,
      "outputs": [
        {
          "output_type": "stream",
          "name": "stdout",
          "text": [
            "Actual percentage score \n",
            " [[20]\n",
            " [27]\n",
            " [69]\n",
            " [30]\n",
            " [62]\n",
            " [35]\n",
            " [24]]\n"
          ]
        }
      ]
    },
    {
      "cell_type": "markdown",
      "source": [
        "### Checking for the example given in the task"
      ],
      "metadata": {
        "id": "hfiNmRxD_4tm"
      }
    },
    {
      "cell_type": "code",
      "source": [
        "hours=np.array([9.25])\n",
        "hours=hours.reshape(-1,1)\n",
        "prediction = lr.predict(hours)\n",
        "print(\"No of Hours = {}\".format(hours[0][0]))\n",
        "print(\"Predicted Score = {}\".format(prediction[0][0]))"
      ],
      "metadata": {
        "colab": {
          "base_uri": "https://localhost:8080/"
        },
        "id": "RGdsOyta_-Rx",
        "outputId": "abe92e87-b41f-461d-9f98-93cd7e6f365a"
      },
      "execution_count": 13,
      "outputs": [
        {
          "output_type": "stream",
          "name": "stdout",
          "text": [
            "No of Hours = 9.25\n",
            "Predicted Score = 93.89272889341652\n"
          ]
        }
      ]
    },
    {
      "cell_type": "markdown",
      "source": [
        "### Evaluating the Model"
      ],
      "metadata": {
        "id": "OkEqFRfqAA9Z"
      }
    },
    {
      "cell_type": "code",
      "source": [
        "from sklearn.metrics import mean_absolute_error\n",
        "print ('Mean Absolute Error=',mean_absolute_error(y_test,y_pred))\n"
      ],
      "metadata": {
        "colab": {
          "base_uri": "https://localhost:8080/"
        },
        "id": "bilGqq2gAFT6",
        "outputId": "8a0d2dac-b327-452e-c123-fda09ac5c700"
      },
      "execution_count": 14,
      "outputs": [
        {
          "output_type": "stream",
          "name": "stdout",
          "text": [
            "Mean Absolute Error= 4.130879918502482\n"
          ]
        }
      ]
    }
  ]
}